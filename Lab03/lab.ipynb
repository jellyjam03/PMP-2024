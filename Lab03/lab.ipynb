{
 "cells": [
  {
   "metadata": {},
   "cell_type": "markdown",
   "source": [
    "# Lab03\n",
    "### Exercitiul 1.\n",
    "Declararea modelului si adaugarea dependentelor"
   ],
   "id": "62893c7dc65788a5"
  },
  {
   "cell_type": "code",
   "id": "initial_id",
   "metadata": {
    "collapsed": true,
    "ExecuteTime": {
     "end_time": "2024-10-15T10:41:26.385908Z",
     "start_time": "2024-10-15T10:41:26.360975Z"
    }
   },
   "source": [
    "from pgmpy.factors.discrete import TabularCPD\n",
    "from pgmpy.models import BayesianNetwork\n",
    "\n",
    "model = BayesianNetwork([('S', 'O'),\n",
    "                         ('S', 'L'),\n",
    "                         ('S', 'M'),\n",
    "                         ('L', 'M')])\n",
    "\n",
    "cpd_S = TabularCPD('S', 2, [[0.6], [0.4]])\n",
    "cpd_O = TabularCPD('O', 2, [[0.9, 0.3], \n",
    "                            [0.1, 0.7]], evidence=['S'], evidence_card=[2])\n",
    "cpd_L = TabularCPD('L', 2, [[0.7, 0.2],\n",
    "                            [0.3, 0.8]], evidence=['S'], evidence_card=[2])\n",
    "cpd_M = TabularCPD('M', 2, [[0.8, 0.4, 0.5, 0.1],\n",
    "                            [0.2, 0.6, 0.5, 0.9]], evidence=['S', 'L'], evidence_card=[2, 2])\n",
    "model.add_cpds(cpd_S, cpd_O, cpd_L, cpd_M)"
   ],
   "outputs": [],
   "execution_count": 4
  },
  {
   "metadata": {},
   "cell_type": "markdown",
   "source": "### a.",
   "id": "2bebc542998ddb69"
  },
  {
   "metadata": {
    "ExecuteTime": {
     "end_time": "2024-10-15T10:41:57.583386Z",
     "start_time": "2024-10-15T10:41:57.522893Z"
    }
   },
   "cell_type": "code",
   "source": "model.local_independencies(['S', 'O', 'M', 'L'])",
   "id": "fe8f1786848cccef",
   "outputs": [
    {
     "data": {
      "text/plain": [
       "(O ⟂ M, L | S)\n",
       "(M ⟂ O | L, S)\n",
       "(L ⟂ O | S)"
      ]
     },
     "execution_count": 7,
     "metadata": {},
     "output_type": "execute_result"
    }
   ],
   "execution_count": 7
  },
  {
   "metadata": {},
   "cell_type": "markdown",
   "source": "### b.",
   "id": "f35d3c5df85abeb3"
  },
  {
   "metadata": {
    "ExecuteTime": {
     "end_time": "2024-10-15T10:43:12.151276Z",
     "start_time": "2024-10-15T10:43:07.568733Z"
    }
   },
   "cell_type": "code",
   "source": [
    "from pgmpy.inference import VariableElimination\n",
    "\n",
    "infer = VariableElimination(model)\n",
    "posterior_p = infer.query(['O', 'L', 'M'], evidence={'S': 1})\n",
    "\n",
    "print(posterior_p)"
   ],
   "id": "ba840403ad4eb2d1",
   "outputs": [
    {
     "name": "stdout",
     "output_type": "stream",
     "text": [
      "+------+------+------+--------------+\n",
      "| O    | L    | M    |   phi(O,L,M) |\n",
      "+======+======+======+==============+\n",
      "| O(0) | L(0) | M(0) |       0.0300 |\n",
      "+------+------+------+--------------+\n",
      "| O(0) | L(0) | M(1) |       0.0300 |\n",
      "+------+------+------+--------------+\n",
      "| O(0) | L(1) | M(0) |       0.0240 |\n",
      "+------+------+------+--------------+\n",
      "| O(0) | L(1) | M(1) |       0.2160 |\n",
      "+------+------+------+--------------+\n",
      "| O(1) | L(0) | M(0) |       0.0700 |\n",
      "+------+------+------+--------------+\n",
      "| O(1) | L(0) | M(1) |       0.0700 |\n",
      "+------+------+------+--------------+\n",
      "| O(1) | L(1) | M(0) |       0.0560 |\n",
      "+------+------+------+--------------+\n",
      "| O(1) | L(1) | M(1) |       0.5040 |\n",
      "+------+------+------+--------------+\n"
     ]
    }
   ],
   "execution_count": 8
  }
 ],
 "metadata": {
  "kernelspec": {
   "display_name": "Python 3",
   "language": "python",
   "name": "python3"
  },
  "language_info": {
   "codemirror_mode": {
    "name": "ipython",
    "version": 2
   },
   "file_extension": ".py",
   "mimetype": "text/x-python",
   "name": "python",
   "nbconvert_exporter": "python",
   "pygments_lexer": "ipython2",
   "version": "2.7.6"
  }
 },
 "nbformat": 4,
 "nbformat_minor": 5
}
