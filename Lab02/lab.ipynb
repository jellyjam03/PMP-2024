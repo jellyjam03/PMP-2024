{
 "cells": [
  {
   "metadata": {},
   "cell_type": "markdown",
   "source": [
    "# Exercitiul 1\n",
    "### <b>a.</b>\n",
    "Simularea experimentului"
   ],
   "id": "6b9c858320810df3"
  },
  {
   "cell_type": "code",
   "id": "initial_id",
   "metadata": {
    "collapsed": true,
    "ExecuteTime": {
     "end_time": "2024-10-08T10:24:34.025633Z",
     "start_time": "2024-10-08T10:24:34.004461Z"
    }
   },
   "source": [
    "import random\n",
    "#0 - rosu\n",
    "#1 - albastru\n",
    "#2 - negru\n",
    "\n",
    "def experiment():\n",
    "    urna = [0, 0, 0, 1, 1, 1, 1, 2, 2]\n",
    "    die_roll = random.sample([1, 2, 3, 4, 5, 6], 1)\n",
    "    if die_roll in [2, 3, 5]:\n",
    "        urna += [2]\n",
    "    elif die_roll == 6:\n",
    "        urna += [0]\n",
    "    else:\n",
    "        urna += [1]\n",
    "    return random.sample(urna, 1)[0]\n",
    "\n",
    "experiment()"
   ],
   "outputs": [
    {
     "data": {
      "text/plain": [
       "1"
      ]
     },
     "execution_count": 38,
     "metadata": {},
     "output_type": "execute_result"
    }
   ],
   "execution_count": 38
  },
  {
   "metadata": {},
   "cell_type": "markdown",
   "source": [
    "### <b>b.</b>\n",
    "Calcularea $P_{rosie}$ folosindu-ne de simularea creata"
   ],
   "id": "b985fc241efdfcf4"
  },
  {
   "metadata": {
    "ExecuteTime": {
     "end_time": "2024-10-08T10:24:54.991073Z",
     "start_time": "2024-10-08T10:24:54.937183Z"
    }
   },
   "cell_type": "code",
   "source": [
    "x = [experiment() for i in range(10000)]\n",
    "p_rosie = len([a for a in x if a == 0])/len(x)\n",
    "print(f'Probabilitatea ca bila extrasa sa fie rosie este{p_rosie}')"
   ],
   "id": "c5c29bdf6cd7c37c",
   "outputs": [
    {
     "name": "stdout",
     "output_type": "stream",
     "text": [
      "Probabilitatea ca bila extrasa sa fie rosie este0.3046\n"
     ]
    }
   ],
   "execution_count": 41
  },
  {
   "metadata": {},
   "cell_type": "markdown",
   "source": [
    "### <b>c.</b>\n",
    "<br>\n",
    "Notam urmatoarele evenimente:<br>\n",
    "$R$ = Bila extrasa este rosie<br>\n",
    "$Z_1$ = Zarul arata o fata cu un numar prim\n",
    "$Z_2$ = Zarul arata 6\n",
    "Probabilitatea ca bila extrasa sa fie rosie este:<br>\n",
    "\\begin{align}\n",
    "P_{rosie} &= P(R | Z_1) + P(R | Z_2) + P(R | (\\overline{Z_1 \\cap Z2}) \\\\\n",
    "&= \\frac{3}{10}\\cdot \\frac{3}{6} + \\frac{4}{10}\\cdot \\frac{1}{6} + \\frac{3}{10}\\cdot \\frac{2}{6} \\\\\n",
    "&= \\frac{19}{60} \\approx 0.316\n",
    "\\end{align} "
   ],
   "id": "65bfb704910273d6"
  },
  {
   "metadata": {},
   "cell_type": "markdown",
   "source": "Comparam probabilitatea calculata cu cea observata in simulare.",
   "id": "5b36bdc8ae63bc2a"
  },
  {
   "metadata": {
    "ExecuteTime": {
     "end_time": "2024-10-08T10:43:48.142758Z",
     "start_time": "2024-10-08T10:43:48.127796Z"
    }
   },
   "cell_type": "code",
   "source": [
    "print(f'Probabilitatea observata ca bila extrasa sa fie rosie este{p_rosie}')\n",
    "print(f'Probabilitatea calculata ca bila extrasa sa fie rosie este{19/60}')"
   ],
   "id": "c9df8a45286af77f",
   "outputs": [
    {
     "name": "stdout",
     "output_type": "stream",
     "text": [
      "Probabilitatea observata ca bila extrasa sa fie rosie este0.3046\n",
      "Probabilitatea calculata ca bila extrasa sa fie rosie este0.31666666666666665\n"
     ]
    }
   ],
   "execution_count": 42
  }
 ],
 "metadata": {
  "kernelspec": {
   "display_name": "Python 3",
   "language": "python",
   "name": "python3"
  },
  "language_info": {
   "codemirror_mode": {
    "name": "ipython",
    "version": 2
   },
   "file_extension": ".py",
   "mimetype": "text/x-python",
   "name": "python",
   "nbconvert_exporter": "python",
   "pygments_lexer": "ipython2",
   "version": "2.7.6"
  }
 },
 "nbformat": 4,
 "nbformat_minor": 5
}
